{
    "nbformat_minor": 1, 
    "cells": [
        {
            "source": "\n# Coursera Capstone - Week 4 - Introduction / Business Problem and Data\n    \"Clearly define a problem or an idea of your choice, where you would need to leverage the Foursquare location data to solve or execute. Remember that data science problems always target an audience and are meant to help a group of stakeholders solve a problem, so make sure that you explicitly describe your audience and why they would care about your problem.\n\n    This submission will eventually become your Introduction/Business Problem section in your final report. So I recommend that you push the report (having your Introduction/Business Problem section only for now) to your Github repository and submit a link to it.\n\n    -- A description of the problem and a discussion of the background. (15 marks)\"", 
            "cell_type": "markdown", 
            "metadata": {
                "collapsed": true
            }
        }, 
        {
            "source": "    Audience / stakeholders\n    Why they care\n    Problem / idea", 
            "cell_type": "markdown", 
            "metadata": {}
        }, 
        {
            "source": "# 1. Introduction / Business Problem", 
            "cell_type": "markdown", 
            "metadata": {}
        }, 
        {
            "source": "Sydney is the largest city in Australia with a population of over 4.5 million people. Naturally both variation and similarities would exist across the numerous suburbs\n\nThis Notebook will explore the suburbs of Sydney, Australia to discover interesting relationships between the suburbs. These suburbs will be segmented and clustered in order to determine certain characteristics about Sydney. <br>\n\n-- What is the most popular venue type? <br>\n-- How similar are the various suburbs of Sydney to each other? <br>\n-- Which suburbs are missing certain (popular) venues? <br>\n-- Where might be the best place to open a new venue? <br>\n-- What venue might this be? <br>\n<br>\nThese questions will be of interest for both existing venue owners in Sydney to understand the markets they operate in, as well as for new entrants seeking to open a venue.", 
            "cell_type": "markdown", 
            "metadata": {}
        }, 
        {
            "source": "# 2. Data", 
            "cell_type": "markdown", 
            "metadata": {}
        }, 
        {
            "source": "The data that will be used to solve for this problem will primarily be FourSquare's location data. <br>\n\nIn addition, Australian suburb and postcode data will be required, along with latitude and longitude data for the correpsonding suburbs. \n\nLongitude and Latitude data will be created via Python's geospatial packages using suburb addresses.\n\nThe data will be used to solve the data by mapping the most common venues to a given suburb and aggregating these results across all of Sydney.\n\nIn the future, additional information could be brought in, such as housing / commercial property prices, commercial / residential vacancy rates or building approvals data to further gauge where best to establish a specific type of venue would be.", 
            "cell_type": "markdown", 
            "metadata": {}
        }, 
        {
            "source": "\n", 
            "cell_type": "markdown", 
            "metadata": {}
        }
    ], 
    "metadata": {
        "kernelspec": {
            "display_name": "Python 3.5", 
            "name": "python3", 
            "language": "python"
        }, 
        "language_info": {
            "mimetype": "text/x-python", 
            "nbconvert_exporter": "python", 
            "version": "3.5.5", 
            "name": "python", 
            "file_extension": ".py", 
            "pygments_lexer": "ipython3", 
            "codemirror_mode": {
                "version": 3, 
                "name": "ipython"
            }
        }
    }, 
    "nbformat": 4
}